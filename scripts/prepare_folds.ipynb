{
 "cells": [
  {
   "cell_type": "code",
   "execution_count": 1,
   "metadata": {},
   "outputs": [],
   "source": [
    "import os\n",
    "import numpy as np\n",
    "import pandas as pd\n",
    "from sklearn.model_selection import train_test_split\n",
    "import sys\n",
    "sys.path.insert(0, 'scripts')\n",
    "from logs import get_logger"
   ]
  },
  {
   "cell_type": "code",
   "execution_count": 17,
   "metadata": {},
   "outputs": [
    {
     "name": "stderr",
     "output_type": "stream",
     "text": [
      "2020-04-17 13:51:46,996 - Create folds - INFO - Splittrain/test into row per image\n",
      "2020-04-17 13:51:46,996 - Create folds - INFO - Splittrain/test into row per image\n",
      "2020-04-17 13:51:46,996 - Create folds - INFO - Splittrain/test into row per image\n",
      "2020-04-17 13:51:46,996 - Create folds - INFO - Splittrain/test into row per image\n",
      "2020-04-17 13:51:46,996 - Create folds - INFO - Splittrain/test into row per image\n",
      "2020-04-17 13:51:46,996 - Create folds - INFO - Splittrain/test into row per image\n",
      "2020-04-17 13:52:30,447 - Create folds - INFO - Join Patient and split on it\n",
      "2020-04-17 13:52:30,447 - Create folds - INFO - Join Patient and split on it\n",
      "2020-04-17 13:52:30,447 - Create folds - INFO - Join Patient and split on it\n",
      "2020-04-17 13:52:30,447 - Create folds - INFO - Join Patient and split on it\n",
      "2020-04-17 13:52:30,447 - Create folds - INFO - Join Patient and split on it\n",
      "2020-04-17 13:52:30,447 - Create folds - INFO - Join Patient and split on it\n",
      "2020-04-17 13:52:31,063 - Create folds - INFO - Create folds\n",
      "2020-04-17 13:52:31,063 - Create folds - INFO - Create folds\n",
      "2020-04-17 13:52:31,063 - Create folds - INFO - Create folds\n",
      "2020-04-17 13:52:31,063 - Create folds - INFO - Create folds\n",
      "2020-04-17 13:52:31,063 - Create folds - INFO - Create folds\n",
      "2020-04-17 13:52:31,063 - Create folds - INFO - Create folds\n",
      "2020-04-17 13:52:31,081 - Create folds - INFO - Write out the files\n",
      "2020-04-17 13:52:31,081 - Create folds - INFO - Write out the files\n",
      "2020-04-17 13:52:31,081 - Create folds - INFO - Write out the files\n",
      "2020-04-17 13:52:31,081 - Create folds - INFO - Write out the files\n",
      "2020-04-17 13:52:31,081 - Create folds - INFO - Write out the files\n",
      "2020-04-17 13:52:31,081 - Create folds - INFO - Write out the files\n"
     ]
    }
   ],
   "source": [
    "logger = get_logger('Create folds', 'INFO') # noqa\n",
    "\n",
    "\n",
    "DATAPATH = '../data'\n",
    "trndf = pd.read_csv(os.path.join(DATAPATH, 'raw/stage_2_train.csv'))\n",
    "tstdf = pd.read_csv(os.path.join(DATAPATH, 'raw/stage_2_sample_submission.csv'))\n",
    "trnmdf = pd.read_csv(os.path.join(DATAPATH, 'train_metadata.csv'))\n",
    "\n",
    "\n",
    "logger.info('Splittrain/test into row per image')\n",
    "trndf[['ID', 'Image', 'Diagnosis']] = trndf['ID'].str.split('_', expand=True)\n",
    "trndf = trndf[['Image', 'Diagnosis', 'Label']]\n",
    "trndf.drop_duplicates(inplace=True)\n",
    "trndf = trndf.pivot(index='Image', columns='Diagnosis', values='Label').reset_index()\n",
    "trndf['Image'] = 'ID_' + trndf['Image']\n",
    "\n",
    "tstdf[['ID','Image','Diagnosis']] = tstdf['ID'].str.split('_', expand=True)\n",
    "tstdf['Image'] = 'ID_' + tstdf['Image']\n",
    "tstdf = tstdf[['Image', 'Label']]\n",
    "tstdf.drop_duplicates(inplace=True)\n",
    "\n",
    "\n",
    "logger.info('Join Patient and split on it')\n",
    "trndf = trndf.merge(trnmdf[['SOPInstanceUID', 'PatientID']], left_on='Image', right_on='SOPInstanceUID', how='inner')\n",
    "trndf = trndf.drop('SOPInstanceUID', 1)\n",
    "\n",
    "logger.info('Create folds')\n",
    "folddf = trndf['PatientID'].reset_index(drop=True).drop_duplicates().reset_index()\n",
    "folddf['fold'] = (folddf['index'].values)%5\n",
    "folddf = folddf.drop('index', 1)\n",
    "trndf = trndf.merge(folddf, on='PatientID',  how='inner')\n",
    "trndf.head()\n",
    "\n",
    "logger.info('Write out the files')\n",
    "trndf.to_csv(os.path.join(DATAPATH, 'train.csv.gz'), index=False, compression = 'gzip')\n",
    "tstdf.to_csv(os.path.join(DATAPATH, 'test.csv.gz'), index=False, compression = 'gzip')\n"
   ]
  }
 ],
 "metadata": {
  "kernelspec": {
   "display_name": "Python 3",
   "language": "python",
   "name": "python3"
  },
  "language_info": {
   "codemirror_mode": {
    "name": "ipython",
    "version": 3
   },
   "file_extension": ".py",
   "mimetype": "text/x-python",
   "name": "python",
   "nbconvert_exporter": "python",
   "pygments_lexer": "ipython3",
   "version": "3.6.10"
  }
 },
 "nbformat": 4,
 "nbformat_minor": 4
}
